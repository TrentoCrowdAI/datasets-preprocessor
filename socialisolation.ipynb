{
 "cells": [
  {
   "cell_type": "code",
   "execution_count": 9,
   "metadata": {},
   "outputs": [],
   "source": [
    "import pandas as pd"
   ]
  },
  {
   "cell_type": "code",
   "execution_count": 10,
   "metadata": {},
   "outputs": [],
   "source": [
    "df = pd.read_csv('raw-datasets/socialisolation.csv')"
   ]
  },
  {
   "cell_type": "code",
   "execution_count": 11,
   "metadata": {},
   "outputs": [],
   "source": [
    "# create items.csv file\n",
    "items_df = df[['title', 'abstract']].sample(frac=1)\n",
    "items_df.columns = ['itemTitle', 'itemDescription']\n",
    "items_df.to_csv('processed-datasets/socialisolation.items.csv', index=False)"
   ]
  },
  {
   "cell_type": "code",
   "execution_count": 12,
   "metadata": {},
   "outputs": [],
   "source": [
    "# create filters.csv file\n",
    "filters = {\n",
    "    'no intervention': 'Does the paper describe an intervention?',\n",
    "    'no tech': 'Are technology and/or technological solutions involved?',\n",
    "    'not OA': 'Are the elderly involved?',\n",
    "    'not SI': 'Is it related to loneliness, social isolation, or social connectedness?'\n",
    "}\n",
    "\n",
    "filters_df = pd.DataFrame(list(filters.values()), columns=['filterDescription'])\n",
    "filters_df.to_csv('processed-datasets/socialisolation.filters.csv', index=False)"
   ]
  },
  {
   "cell_type": "code",
   "execution_count": 13,
   "metadata": {},
   "outputs": [],
   "source": [
    "# create tests.csv\n",
    "tests = []\n",
    "tests_src_df = df[['title', 'abstract', 'criteria']]\n",
    "\n",
    "for index, row in tests_src_df.iterrows():\n",
    "    for criteria in filters.keys():\n",
    "        tests.append({\n",
    "            'itemTitle': row['title'],\n",
    "            'itemDescription': row['abstract'],\n",
    "            'filterDescription': filters[criteria],\n",
    "            'answer': 'no' if criteria in row['criteria'] else 'yes'\n",
    "        })\n",
    "        \n",
    "\n",
    "tests_df = pd.DataFrame(tests).sample(frac=1)\n",
    "tests_df.to_csv('processed-datasets/socialisolation.tests.csv', index=False)"
   ]
  },
  {
   "cell_type": "code",
   "execution_count": 14,
   "metadata": {},
   "outputs": [],
   "source": [
    "# create datasets just for one worker. \n",
    "#   maxTasksRule = 3\n",
    "#   votesPerTaskRule = 1\n",
    "#   initialTestsRule = 2\n",
    "#   testFrequencyRule = 2\n",
    "\n",
    "# items.csv\n",
    "items_df_1w = df[['title', 'abstract']].sample(frac=1).iloc[:3]\n",
    "items_df_1w.columns = ['itemTitle', 'itemDescription']\n",
    "items_df_1w.to_csv('processed-datasets/socialisolation.items-1w.csv', index=False)\n",
    "\n",
    "# filters.csv\n",
    "filters_df_1w = filters_df.iloc[:1]\n",
    "filters_df_1w.to_csv('processed-datasets/socialisolation.filters-1w.csv', index=False)\n",
    "\n",
    "# tests.csv\n",
    "selected_filter = filters_df_1w.iloc[0]\n",
    "tests_df_1w = tests_df.sample(frac=1).loc[lambda df: df.filterDescription == selected_filter.filterDescription, :].iloc[:3]\n",
    "tests_df_1w.to_csv('processed-datasets/socialisolation.tests-1w.csv', index=False)"
   ]
  },
  {
   "cell_type": "code",
   "execution_count": 15,
   "metadata": {},
   "outputs": [],
   "source": [
    "# create tests-200\n",
    "tests_df_200 = tests_df.sample(frac=1).loc[lambda df: df.filterDescription == selected_filter.filterDescription, :].iloc[:200]\n",
    "tests_df_200.to_csv('processed-datasets/socialisolation.tests-200.csv', index=False)"
   ]
  },
  {
   "cell_type": "code",
   "execution_count": 16,
   "metadata": {},
   "outputs": [],
   "source": [
    "# create tests-20 intervention\n",
    "tests_df_20 = tests_df.sample(frac=1).loc[lambda df: (df.filterDescription == selected_filter.filterDescription) & ('intervention' in df.itemDescription) & (df.answer == 'yes'), :].iloc[:20]\n",
    "tests_df_20.to_csv('processed-datasets/socialisolation.tests-intervention-20.csv', index=False)\n",
    "\n",
    "\n",
    "\n"
   ]
  },
  {
   "cell_type": "code",
   "execution_count": 19,
   "metadata": {},
   "outputs": [],
   "source": [
    "# create tests-small-intervention.csv\n",
    "tests_small = []\n",
    "df_small = pd.read_csv('raw-datasets/socialisolation.tests-intervention-small-raw.csv')\n",
    "tests_small_src_df = df_small[['title', 'abstract', 'criteria', 'has intervention']]\n",
    "\n",
    "for index, row in tests_small_src_df.iterrows():\n",
    "    tests_small.append({\n",
    "        'itemTitle': row['title'],\n",
    "        'itemDescription': row['abstract'],\n",
    "        'filterDescription': filters['no intervention'],\n",
    "        'answer': 'yes' if row['has intervention'] == 1 else 'no'\n",
    "    })\n",
    "        \n",
    "\n",
    "tests_small_df = pd.DataFrame(tests_small).sample(frac=1)\n",
    "tests_small_df.to_csv('processed-datasets/socialisolation.tests-intervention-small.csv', index=False)"
   ]
  },
  {
   "cell_type": "code",
   "execution_count": null,
   "metadata": {},
   "outputs": [],
   "source": []
  },
  {
   "cell_type": "code",
   "execution_count": null,
   "metadata": {},
   "outputs": [],
   "source": []
  }
 ],
 "metadata": {
  "kernelspec": {
   "display_name": "Python 3",
   "language": "python",
   "name": "python3"
  },
  "language_info": {
   "codemirror_mode": {
    "name": "ipython",
    "version": 3
   },
   "file_extension": ".py",
   "mimetype": "text/x-python",
   "name": "python",
   "nbconvert_exporter": "python",
   "pygments_lexer": "ipython3",
   "version": "3.6.4"
  }
 },
 "nbformat": 4,
 "nbformat_minor": 2
}
