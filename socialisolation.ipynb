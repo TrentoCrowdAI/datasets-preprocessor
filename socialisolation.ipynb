{
 "cells": [
  {
   "cell_type": "code",
   "execution_count": 97,
   "metadata": {},
   "outputs": [],
   "source": [
    "import pandas as pd"
   ]
  },
  {
   "cell_type": "code",
   "execution_count": 98,
   "metadata": {},
   "outputs": [],
   "source": [
    "df = pd.read_csv('raw-datasets/socialisolation.csv')"
   ]
  },
  {
   "cell_type": "code",
   "execution_count": 99,
   "metadata": {},
   "outputs": [],
   "source": [
    "# create items.csv file\n",
    "items_df = df[['title', 'abstract']]\n",
    "items_df.columns = ['itemTitle', 'itemDescription']\n",
    "items_df.to_csv('processed-datasets/socialisolation.items.csv', index=False)"
   ]
  },
  {
   "cell_type": "code",
   "execution_count": 100,
   "metadata": {},
   "outputs": [],
   "source": [
    "# create filters.csv file\n",
    "filters = {\n",
    "    'no intervention': 'Does the paper describe an intervention?',\n",
    "    'no tech': 'Are technology and/or technological solutions involved?',\n",
    "    'not OA': 'Are the elderly involved?',\n",
    "    'not SI': 'Is it related to loneliness, social isolation, or social connectedness?'\n",
    "}\n",
    "\n",
    "filters_df = pd.DataFrame(list(filters.values()), columns=['filterDescription'])\n",
    "filters_df.to_csv('processed-datasets/socialisolation.filters.csv', index=False)"
   ]
  },
  {
   "cell_type": "code",
   "execution_count": 101,
   "metadata": {},
   "outputs": [],
   "source": [
    "# create tests.csv\n",
    "tests = []\n",
    "tests_src_df = df[['title', 'abstract', 'criteria']]\n",
    "\n",
    "for index, row in tests_src_df.iterrows():\n",
    "    for criteria in filters.keys():\n",
    "        tests.append({\n",
    "            'itemTitle': row['title'],\n",
    "            'itemDescription': row['abstract'],\n",
    "            'filterDescription': filters[criteria],\n",
    "            'answer': 'no' if criteria in row['criteria'] else 'yes'\n",
    "        })\n",
    "        \n",
    "\n",
    "tests_df = pd.DataFrame(tests)\n",
    "tests_df.to_csv('processed-datasets/socialisolation.tests.csv', index=False)"
   ]
  },
  {
   "cell_type": "code",
   "execution_count": 109,
   "metadata": {},
   "outputs": [],
   "source": [
    "# create datasets just for one worker. \n",
    "#   maxTasksRule = 3\n",
    "#   votesPerTaskRule = 1\n",
    "#   initialTestsRule = 2\n",
    "#   testFrequencyRule = 2\n",
    "\n",
    "# items.csv\n",
    "items_df_1w = df[['title', 'abstract']].sample(frac=1).iloc[:3]\n",
    "items_df_1w.columns = ['itemTitle', 'itemDescription']\n",
    "items_df_1w.to_csv('processed-datasets/socialisolation.items-1w.csv', index=False)\n",
    "\n",
    "# filters.csv\n",
    "filters_df_1w = filters_df.iloc[:1]\n",
    "filters_df_1w.to_csv('processed-datasets/socialisolation.filters-1w.csv', index=False)\n",
    "\n",
    "# tests.csv\n",
    "selected_filter = filters_df_1w.iloc[0]\n",
    "tests_df_1w = tests_df.sample(frac=1).loc[lambda df: df.filterDescription == selected_filter.filterDescription, :].iloc[:3]\n",
    "tests_df_1w.to_csv('processed-datasets/socialisolation.tests-1w.csv', index=False)"
   ]
  },
  {
   "cell_type": "code",
   "execution_count": null,
   "metadata": {},
   "outputs": [],
   "source": []
  }
 ],
 "metadata": {
  "kernelspec": {
   "display_name": "Python 3",
   "language": "python",
   "name": "python3"
  },
  "language_info": {
   "codemirror_mode": {
    "name": "ipython",
    "version": 3
   },
   "file_extension": ".py",
   "mimetype": "text/x-python",
   "name": "python",
   "nbconvert_exporter": "python",
   "pygments_lexer": "ipython3",
   "version": "3.6.4"
  }
 },
 "nbformat": 4,
 "nbformat_minor": 2
}
